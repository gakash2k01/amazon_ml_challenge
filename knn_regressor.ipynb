{
 "cells": [
  {
   "cell_type": "code",
   "execution_count": 25,
   "metadata": {},
   "outputs": [],
   "source": [
    "import numpy as np\n",
    "import pandas as pd"
   ]
  },
  {
   "cell_type": "code",
   "execution_count": 26,
   "metadata": {},
   "outputs": [],
   "source": [
    "embed=pd.read_csv(\"dataset/train_embed.csv\")\n",
    "embed_train=pd.read_csv(\"dataset/train_embed1.csv\")"
   ]
  },
  {
   "cell_type": "code",
   "execution_count": 27,
   "metadata": {},
   "outputs": [
    {
     "data": {
      "text/html": [
       "<div>\n",
       "<style scoped>\n",
       "    .dataframe tbody tr th:only-of-type {\n",
       "        vertical-align: middle;\n",
       "    }\n",
       "\n",
       "    .dataframe tbody tr th {\n",
       "        vertical-align: top;\n",
       "    }\n",
       "\n",
       "    .dataframe thead th {\n",
       "        text-align: right;\n",
       "    }\n",
       "</style>\n",
       "<table border=\"1\" class=\"dataframe\">\n",
       "  <thead>\n",
       "    <tr style=\"text-align: right;\">\n",
       "      <th></th>\n",
       "      <th>0</th>\n",
       "      <th>1</th>\n",
       "      <th>2</th>\n",
       "      <th>3</th>\n",
       "      <th>4</th>\n",
       "      <th>5</th>\n",
       "      <th>6</th>\n",
       "      <th>7</th>\n",
       "      <th>8</th>\n",
       "      <th>9</th>\n",
       "      <th>...</th>\n",
       "      <th>758</th>\n",
       "      <th>759</th>\n",
       "      <th>760</th>\n",
       "      <th>761</th>\n",
       "      <th>762</th>\n",
       "      <th>763</th>\n",
       "      <th>764</th>\n",
       "      <th>765</th>\n",
       "      <th>766</th>\n",
       "      <th>767</th>\n",
       "    </tr>\n",
       "  </thead>\n",
       "  <tbody>\n",
       "    <tr>\n",
       "      <th>0</th>\n",
       "      <td>-0.426163</td>\n",
       "      <td>-0.019715</td>\n",
       "      <td>-0.147427</td>\n",
       "      <td>-0.191711</td>\n",
       "      <td>-0.247835</td>\n",
       "      <td>-0.007556</td>\n",
       "      <td>0.184607</td>\n",
       "      <td>0.230126</td>\n",
       "      <td>-0.112902</td>\n",
       "      <td>-0.135185</td>\n",
       "      <td>...</td>\n",
       "      <td>0.208031</td>\n",
       "      <td>-0.077033</td>\n",
       "      <td>0.154945</td>\n",
       "      <td>-0.392426</td>\n",
       "      <td>0.158891</td>\n",
       "      <td>-0.087199</td>\n",
       "      <td>0.057379</td>\n",
       "      <td>-0.149604</td>\n",
       "      <td>0.227732</td>\n",
       "      <td>0.445528</td>\n",
       "    </tr>\n",
       "    <tr>\n",
       "      <th>1</th>\n",
       "      <td>-0.295872</td>\n",
       "      <td>-0.050357</td>\n",
       "      <td>-0.142741</td>\n",
       "      <td>-0.081953</td>\n",
       "      <td>-0.169617</td>\n",
       "      <td>-0.029728</td>\n",
       "      <td>0.289099</td>\n",
       "      <td>0.332459</td>\n",
       "      <td>-0.120551</td>\n",
       "      <td>-0.146456</td>\n",
       "      <td>...</td>\n",
       "      <td>0.179806</td>\n",
       "      <td>-0.021631</td>\n",
       "      <td>0.080972</td>\n",
       "      <td>-0.229730</td>\n",
       "      <td>0.016145</td>\n",
       "      <td>-0.030169</td>\n",
       "      <td>-0.030471</td>\n",
       "      <td>-0.201758</td>\n",
       "      <td>0.298551</td>\n",
       "      <td>0.430040</td>\n",
       "    </tr>\n",
       "    <tr>\n",
       "      <th>2</th>\n",
       "      <td>-0.265745</td>\n",
       "      <td>0.226682</td>\n",
       "      <td>-0.218188</td>\n",
       "      <td>-0.155952</td>\n",
       "      <td>-0.164947</td>\n",
       "      <td>-0.177518</td>\n",
       "      <td>0.537117</td>\n",
       "      <td>0.106359</td>\n",
       "      <td>-0.226721</td>\n",
       "      <td>-0.027696</td>\n",
       "      <td>...</td>\n",
       "      <td>0.069250</td>\n",
       "      <td>-0.303264</td>\n",
       "      <td>0.013453</td>\n",
       "      <td>-0.468215</td>\n",
       "      <td>0.262105</td>\n",
       "      <td>0.055382</td>\n",
       "      <td>-0.105407</td>\n",
       "      <td>0.006217</td>\n",
       "      <td>0.484209</td>\n",
       "      <td>0.536531</td>\n",
       "    </tr>\n",
       "    <tr>\n",
       "      <th>3</th>\n",
       "      <td>-0.527993</td>\n",
       "      <td>-0.099281</td>\n",
       "      <td>-0.097664</td>\n",
       "      <td>-0.083705</td>\n",
       "      <td>0.137262</td>\n",
       "      <td>-0.064075</td>\n",
       "      <td>-0.087627</td>\n",
       "      <td>0.044312</td>\n",
       "      <td>-0.224528</td>\n",
       "      <td>-0.119273</td>\n",
       "      <td>...</td>\n",
       "      <td>0.342399</td>\n",
       "      <td>-0.212913</td>\n",
       "      <td>-0.095079</td>\n",
       "      <td>-0.352270</td>\n",
       "      <td>-0.041175</td>\n",
       "      <td>0.016697</td>\n",
       "      <td>0.025686</td>\n",
       "      <td>0.047509</td>\n",
       "      <td>0.133078</td>\n",
       "      <td>0.158953</td>\n",
       "    </tr>\n",
       "    <tr>\n",
       "      <th>4</th>\n",
       "      <td>-0.430770</td>\n",
       "      <td>-0.092300</td>\n",
       "      <td>-0.105847</td>\n",
       "      <td>-0.048876</td>\n",
       "      <td>-0.134100</td>\n",
       "      <td>-0.038064</td>\n",
       "      <td>0.030199</td>\n",
       "      <td>0.198923</td>\n",
       "      <td>-0.104836</td>\n",
       "      <td>-0.186939</td>\n",
       "      <td>...</td>\n",
       "      <td>0.129804</td>\n",
       "      <td>-0.015920</td>\n",
       "      <td>0.102030</td>\n",
       "      <td>-0.447980</td>\n",
       "      <td>0.006463</td>\n",
       "      <td>-0.048333</td>\n",
       "      <td>-0.100819</td>\n",
       "      <td>-0.153923</td>\n",
       "      <td>0.216303</td>\n",
       "      <td>0.485919</td>\n",
       "    </tr>\n",
       "  </tbody>\n",
       "</table>\n",
       "<p>5 rows × 768 columns</p>\n",
       "</div>"
      ],
      "text/plain": [
       "          0         1         2         3         4         5         6  \\\n",
       "0 -0.426163 -0.019715 -0.147427 -0.191711 -0.247835 -0.007556  0.184607   \n",
       "1 -0.295872 -0.050357 -0.142741 -0.081953 -0.169617 -0.029728  0.289099   \n",
       "2 -0.265745  0.226682 -0.218188 -0.155952 -0.164947 -0.177518  0.537117   \n",
       "3 -0.527993 -0.099281 -0.097664 -0.083705  0.137262 -0.064075 -0.087627   \n",
       "4 -0.430770 -0.092300 -0.105847 -0.048876 -0.134100 -0.038064  0.030199   \n",
       "\n",
       "          7         8         9  ...       758       759       760       761  \\\n",
       "0  0.230126 -0.112902 -0.135185  ...  0.208031 -0.077033  0.154945 -0.392426   \n",
       "1  0.332459 -0.120551 -0.146456  ...  0.179806 -0.021631  0.080972 -0.229730   \n",
       "2  0.106359 -0.226721 -0.027696  ...  0.069250 -0.303264  0.013453 -0.468215   \n",
       "3  0.044312 -0.224528 -0.119273  ...  0.342399 -0.212913 -0.095079 -0.352270   \n",
       "4  0.198923 -0.104836 -0.186939  ...  0.129804 -0.015920  0.102030 -0.447980   \n",
       "\n",
       "        762       763       764       765       766       767  \n",
       "0  0.158891 -0.087199  0.057379 -0.149604  0.227732  0.445528  \n",
       "1  0.016145 -0.030169 -0.030471 -0.201758  0.298551  0.430040  \n",
       "2  0.262105  0.055382 -0.105407  0.006217  0.484209  0.536531  \n",
       "3 -0.041175  0.016697  0.025686  0.047509  0.133078  0.158953  \n",
       "4  0.006463 -0.048333 -0.100819 -0.153923  0.216303  0.485919  \n",
       "\n",
       "[5 rows x 768 columns]"
      ]
     },
     "execution_count": 27,
     "metadata": {},
     "output_type": "execute_result"
    }
   ],
   "source": [
    "embed.head()"
   ]
  },
  {
   "cell_type": "code",
   "execution_count": 28,
   "metadata": {},
   "outputs": [
    {
     "data": {
      "text/html": [
       "<div>\n",
       "<style scoped>\n",
       "    .dataframe tbody tr th:only-of-type {\n",
       "        vertical-align: middle;\n",
       "    }\n",
       "\n",
       "    .dataframe tbody tr th {\n",
       "        vertical-align: top;\n",
       "    }\n",
       "\n",
       "    .dataframe thead th {\n",
       "        text-align: right;\n",
       "    }\n",
       "</style>\n",
       "<table border=\"1\" class=\"dataframe\">\n",
       "  <thead>\n",
       "    <tr style=\"text-align: right;\">\n",
       "      <th></th>\n",
       "      <th>0</th>\n",
       "    </tr>\n",
       "  </thead>\n",
       "  <tbody>\n",
       "    <tr>\n",
       "      <th>0</th>\n",
       "      <td>492.125984</td>\n",
       "    </tr>\n",
       "    <tr>\n",
       "      <th>1</th>\n",
       "      <td>500.000000</td>\n",
       "    </tr>\n",
       "    <tr>\n",
       "      <th>2</th>\n",
       "      <td>2.000000</td>\n",
       "    </tr>\n",
       "    <tr>\n",
       "      <th>3</th>\n",
       "      <td>3150.000000</td>\n",
       "    </tr>\n",
       "    <tr>\n",
       "      <th>4</th>\n",
       "      <td>700.000000</td>\n",
       "    </tr>\n",
       "  </tbody>\n",
       "</table>\n",
       "</div>"
      ],
      "text/plain": [
       "             0\n",
       "0   492.125984\n",
       "1   500.000000\n",
       "2     2.000000\n",
       "3  3150.000000\n",
       "4   700.000000"
      ]
     },
     "execution_count": 28,
     "metadata": {},
     "output_type": "execute_result"
    }
   ],
   "source": [
    "embed_train.head()"
   ]
  },
  {
   "cell_type": "code",
   "execution_count": 29,
   "metadata": {},
   "outputs": [],
   "source": [
    "# embed[\"PRODUCT_ID\"]=embed_train[0]"
   ]
  },
  {
   "cell_type": "code",
   "execution_count": 30,
   "metadata": {},
   "outputs": [],
   "source": [
    "def average(pred):\n",
    "    return pred.sum()/pred.shape[0]"
   ]
  },
  {
   "cell_type": "code",
   "execution_count": 31,
   "metadata": {},
   "outputs": [],
   "source": [
    "import numpy as np\n",
    "import faiss\n",
    "import time\n",
    "\n",
    "class FaissKNeighbors:\n",
    "    def __init__(self, k=5):\n",
    "        self.index = None\n",
    "        self.y = None\n",
    "        self.k = k\n",
    "\n",
    "    def fit(self, X, y):\n",
    "        self.index = faiss.IndexFlatL2(X.shape[1])\n",
    "        self.index.add(X.astype(np.float32))\n",
    "        self.y = y\n",
    "\n",
    "    def predict(self, X):\n",
    "        st=time.time()\n",
    "        distances, indices = self.index.search(X.astype(np.float32), k=self.k)\n",
    "        print(\"Time Elapsed = \",time.time()-st)\n",
    "        votes = self.y[indices]\n",
    "        predictions = np.array([average(x) for x in votes])\n",
    "        return predictions"
   ]
  },
  {
   "cell_type": "code",
   "execution_count": 32,
   "metadata": {},
   "outputs": [],
   "source": [
    "X = np.array(embed)\n",
    "Y = np.array(embed_train)"
   ]
  },
  {
   "cell_type": "code",
   "execution_count": 33,
   "metadata": {},
   "outputs": [
    {
     "name": "stdout",
     "output_type": "stream",
     "text": [
      "(300000, 768) (300000, 1)\n"
     ]
    }
   ],
   "source": [
    "print(X.shape, Y.shape)"
   ]
  },
  {
   "cell_type": "code",
   "execution_count": 34,
   "metadata": {},
   "outputs": [],
   "source": [
    "nr=FaissKNeighbors()"
   ]
  },
  {
   "cell_type": "code",
   "execution_count": 35,
   "metadata": {},
   "outputs": [],
   "source": [
    "nr.fit(X,Y)"
   ]
  },
  {
   "cell_type": "code",
   "execution_count": 36,
   "metadata": {},
   "outputs": [],
   "source": [
    "x_test=np.array(pd.read_csv(\"dataset/test_embed.csv\"))"
   ]
  },
  {
   "cell_type": "code",
   "execution_count": 46,
   "metadata": {},
   "outputs": [],
   "source": [
    "y_test=np.array(pd.read_csv('dataset/test_embed1.csv'))"
   ]
  },
  {
   "cell_type": "code",
   "execution_count": 38,
   "metadata": {},
   "outputs": [
    {
     "name": "stdout",
     "output_type": "stream",
     "text": [
      "Time Elapsed =  245.5104055404663\n"
     ]
    }
   ],
   "source": [
    "pred=nr.predict(x_test)"
   ]
  },
  {
   "cell_type": "code",
   "execution_count": 39,
   "metadata": {},
   "outputs": [],
   "source": [
    "sub = pd.read_csv('dataset/sample_submission.csv')"
   ]
  },
  {
   "cell_type": "code",
   "execution_count": 40,
   "metadata": {},
   "outputs": [
    {
     "data": {
      "text/plain": [
       "734736"
      ]
     },
     "execution_count": 40,
     "metadata": {},
     "output_type": "execute_result"
    }
   ],
   "source": [
    "len(pred)"
   ]
  },
  {
   "cell_type": "code",
   "execution_count": 47,
   "metadata": {},
   "outputs": [
    {
     "name": "stdout",
     "output_type": "stream",
     "text": [
      "[[ 6142.]\n",
      " [ 1622.]\n",
      " [ 7540.]\n",
      " ...\n",
      " [10645.]\n",
      " [12680.]\n",
      " [    0.]]\n"
     ]
    }
   ],
   "source": [
    "print(y_test)"
   ]
  },
  {
   "cell_type": "code",
   "execution_count": 44,
   "metadata": {},
   "outputs": [
    {
     "name": "stdout",
     "output_type": "stream",
     "text": [
      "        PRODUCT_ID  PRODUCT_LENGTH\n",
      "0           604373      687.400200\n",
      "1          1729783     6379.999999\n",
      "2          1871949      880.000000\n",
      "3          1107571      227.559041\n",
      "4           624253      718.834400\n",
      "...            ...             ...\n",
      "734731      921419      100.000000\n",
      "734732     2456362      650.000000\n",
      "734733      841529      935.984252\n",
      "734734     1190194     1080.000000\n",
      "734735     1040810     1334.100000\n",
      "\n",
      "[734736 rows x 2 columns]\n"
     ]
    }
   ],
   "source": [
    "print(sub)"
   ]
  },
  {
   "cell_type": "code",
   "execution_count": 43,
   "metadata": {},
   "outputs": [],
   "source": [
    "sub['PRODUCT_LENGTH'] = pred"
   ]
  },
  {
   "cell_type": "code",
   "execution_count": 45,
   "metadata": {},
   "outputs": [],
   "source": [
    "sub.to_csv('last_sub.csv', index=False)"
   ]
  },
  {
   "cell_type": "code",
   "execution_count": null,
   "metadata": {},
   "outputs": [],
   "source": []
  }
 ],
 "metadata": {
  "kernelspec": {
   "display_name": "akash",
   "language": "python",
   "name": "akash"
  },
  "language_info": {
   "codemirror_mode": {
    "name": "ipython",
    "version": 3
   },
   "file_extension": ".py",
   "mimetype": "text/x-python",
   "name": "python",
   "nbconvert_exporter": "python",
   "pygments_lexer": "ipython3",
   "version": "3.10.9"
  },
  "orig_nbformat": 4
 },
 "nbformat": 4,
 "nbformat_minor": 2
}
