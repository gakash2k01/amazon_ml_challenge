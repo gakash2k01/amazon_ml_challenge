{
 "cells": [
  {
   "cell_type": "code",
   "execution_count": 33,
   "metadata": {},
   "outputs": [
    {
     "name": "stderr",
     "output_type": "stream",
     "text": [
      "Some weights of the model checkpoint at bert-base-uncased were not used when initializing BertModel: ['cls.predictions.transform.LayerNorm.bias', 'cls.predictions.transform.dense.weight', 'cls.predictions.transform.dense.bias', 'cls.predictions.transform.LayerNorm.weight', 'cls.seq_relationship.bias', 'cls.seq_relationship.weight', 'cls.predictions.bias', 'cls.predictions.decoder.weight']\n",
      "- This IS expected if you are initializing BertModel from the checkpoint of a model trained on another task or with another architecture (e.g. initializing a BertForSequenceClassification model from a BertForPreTraining model).\n",
      "- This IS NOT expected if you are initializing BertModel from the checkpoint of a model that you expect to be exactly identical (initializing a BertForSequenceClassification model from a BertForSequenceClassification model).\n"
     ]
    }
   ],
   "source": [
    "from transformers import AutoTokenizer, BertModel\n",
    "import torch\n",
    "import tqdm\n",
    "\n",
    "tokenizer = AutoTokenizer.from_pretrained(\"bert-base-uncased\")\n",
    "model = BertModel.from_pretrained(\"bert-base-uncased\")\n",
    "device = \"cuda:1\" if torch.cuda.is_available() else \"cpu\"\n",
    "inputs = tokenizer([\"Hello, my dog is cute\"], return_tensors=\"pt\").to(device)\n",
    "model  = model.to(device)\n",
    "outputs = model(**inputs)"
   ]
  },
  {
   "cell_type": "code",
   "execution_count": 36,
   "metadata": {},
   "outputs": [
    {
     "name": "stdout",
     "output_type": "stream",
     "text": [
      "huggingface/tokenizers: The current process just got forked, after parallelism has already been used. Disabling parallelism to avoid deadlocks...\n",
      "To disable this warning, you can either:\n",
      "\t- Avoid using `tokenizers` before the fork if possible\n",
      "\t- Explicitly set the environment variable TOKENIZERS_PARALLELISM=(true | false)\n",
      "Looking in indexes: https://pypi.org/simple, https://pypi.ngc.nvidia.com\n",
      "Collecting lsg-converter\n",
      "  Downloading lsg_converter-0.0.5-py3-none-any.whl (118 kB)\n",
      "\u001b[2K     \u001b[90m━━━━━━━━━━━━━━━━━━━━━━━━━━━━━━━━━━━━━━━\u001b[0m \u001b[32m118.3/118.3 kB\u001b[0m \u001b[31m2.5 MB/s\u001b[0m eta \u001b[36m0:00:00\u001b[0ma \u001b[36m0:00:01\u001b[0m\n",
      "\u001b[?25hRequirement already satisfied: torch>=1.7 in /opt/conda/envs/akash/lib/python3.10/site-packages (from lsg-converter) (1.13.1)\n",
      "Requirement already satisfied: transformers>=4.23.1 in /opt/conda/envs/akash/lib/python3.10/site-packages (from lsg-converter) (4.26.1)\n",
      "Requirement already satisfied: typing_extensions in /opt/conda/envs/akash/lib/python3.10/site-packages (from torch>=1.7->lsg-converter) (4.4.0)\n",
      "Requirement already satisfied: pyyaml>=5.1 in /opt/conda/envs/akash/lib/python3.10/site-packages (from transformers>=4.23.1->lsg-converter) (6.0)\n",
      "Requirement already satisfied: regex!=2019.12.17 in /opt/conda/envs/akash/lib/python3.10/site-packages (from transformers>=4.23.1->lsg-converter) (2022.10.31)\n",
      "Requirement already satisfied: filelock in /opt/conda/envs/akash/lib/python3.10/site-packages (from transformers>=4.23.1->lsg-converter) (3.9.0)\n",
      "Requirement already satisfied: huggingface-hub<1.0,>=0.11.0 in /opt/conda/envs/akash/lib/python3.10/site-packages (from transformers>=4.23.1->lsg-converter) (0.13.1)\n",
      "Requirement already satisfied: tokenizers!=0.11.3,<0.14,>=0.11.1 in /opt/conda/envs/akash/lib/python3.10/site-packages (from transformers>=4.23.1->lsg-converter) (0.13.2)\n",
      "Requirement already satisfied: requests in /opt/conda/envs/akash/lib/python3.10/site-packages (from transformers>=4.23.1->lsg-converter) (2.28.2)\n",
      "Requirement already satisfied: numpy>=1.17 in /opt/conda/envs/akash/lib/python3.10/site-packages (from transformers>=4.23.1->lsg-converter) (1.24.2)\n",
      "Requirement already satisfied: tqdm>=4.27 in /opt/conda/envs/akash/lib/python3.10/site-packages (from transformers>=4.23.1->lsg-converter) (4.64.1)\n",
      "Requirement already satisfied: packaging>=20.0 in /opt/conda/envs/akash/lib/python3.10/site-packages (from transformers>=4.23.1->lsg-converter) (23.0)\n",
      "Requirement already satisfied: urllib3<1.27,>=1.21.1 in /opt/conda/envs/akash/lib/python3.10/site-packages (from requests->transformers>=4.23.1->lsg-converter) (1.26.14)\n",
      "Requirement already satisfied: charset-normalizer<4,>=2 in /opt/conda/envs/akash/lib/python3.10/site-packages (from requests->transformers>=4.23.1->lsg-converter) (2.1.1)\n",
      "Requirement already satisfied: idna<4,>=2.5 in /opt/conda/envs/akash/lib/python3.10/site-packages (from requests->transformers>=4.23.1->lsg-converter) (3.4)\n",
      "Requirement already satisfied: certifi>=2017.4.17 in /opt/conda/envs/akash/lib/python3.10/site-packages (from requests->transformers>=4.23.1->lsg-converter) (2022.12.7)\n",
      "Installing collected packages: lsg-converter\n",
      "Successfully installed lsg-converter-0.0.5\n",
      "\u001b[33mWARNING: Running pip as the 'root' user can result in broken permissions and conflicting behaviour with the system package manager. It is recommended to use a virtual environment instead: https://pip.pypa.io/warnings/venv\u001b[0m\u001b[33m\n",
      "\u001b[0mNote: you may need to restart the kernel to use updated packages.\n"
     ]
    }
   ],
   "source": [
    "%pip install lsg-converter"
   ]
  },
  {
   "cell_type": "code",
   "execution_count": 38,
   "metadata": {},
   "outputs": [
    {
     "name": "stderr",
     "output_type": "stream",
     "text": [
      "The argument `trust_remote_code` is to be used with Auto classes. It has no effect here and is ignored.\n",
      "The argument `trust_remote_code` is to be used with Auto classes. It has no effect here and is ignored.\n",
      "Some weights of the model checkpoint at bert-base-uncased were not used when initializing LSGBertForMaskedLM: ['cls.seq_relationship.bias', 'cls.seq_relationship.weight']\n",
      "- This IS expected if you are initializing LSGBertForMaskedLM from the checkpoint of a model trained on another task or with another architecture (e.g. initializing a BertForSequenceClassification model from a BertForPreTraining model).\n",
      "- This IS NOT expected if you are initializing LSGBertForMaskedLM from the checkpoint of a model that you expect to be exactly identical (initializing a BertForSequenceClassification model from a BertForSequenceClassification model).\n",
      "Some weights of LSGBertForMaskedLM were not initialized from the model checkpoint at bert-base-uncased and are newly initialized: ['bert.embeddings.global_embeddings.weight']\n",
      "You should probably TRAIN this model on a down-stream task to be able to use it for predictions and inference.\n"
     ]
    }
   ],
   "source": [
    "from lsg_converter import LSGConverter\n",
    "\n",
    "converter = LSGConverter(max_sequence_length=4096)\n",
    "\n",
    "# Example 1\n",
    "model, tokenizer = converter.convert_from_pretrained(\"bert-base-uncased\", num_global_tokens=7)\n",
    "model  = model.to(device)\n"
   ]
  },
  {
   "cell_type": "code",
   "execution_count": 42,
   "metadata": {},
   "outputs": [],
   "source": [
    "inputs = tokenizer([\"Hello, my dog is cute\"], return_tensors=\"pt\").to(device)\n",
    "outputs = model(**inputs)"
   ]
  },
  {
   "cell_type": "code",
   "execution_count": 51,
   "metadata": {},
   "outputs": [],
   "source": [
    "from transformers import AutoTokenizer, BertModel\n",
    "import torch\n",
    "import pandas as pd\n",
    "\n",
    "def make_embed(df):\n",
    "    df=df.fillna(\"Not Avaliable\")\n",
    "    ls_embed=[]\n",
    "    ls_id=[]\n",
    "\n",
    "    for i in tqdm(range(df.shape[0])):\n",
    "        rw=df.iloc[i]\n",
    "        x=[rw[\"TITLE\"]+\" \"+rw[\"BULLET_POINTS\"]+\" \"+rw[\"DESCRIPTION\"]]\n",
    "        id=rw[\"PRODUCT_ID\"]\n",
    "        inputs = tokenizer(x, return_tensors=\"pt\").to(device)\n",
    "        outputs = model(**inputs)\n",
    "        last_hidden_states = outputs.logits[:,0,:]\n",
    "        last_hidden_states=last_hidden_states.cpu().detach().numpy()\n",
    "        ls_embed.append(last_hidden_states)\n",
    "        ls_id.append(id)\n",
    "    \n",
    "    nw_df=pd.DataFrame(ls_embed)\n",
    "\n",
    "    return nw_df"
   ]
  },
  {
   "cell_type": "code",
   "execution_count": 49,
   "metadata": {},
   "outputs": [],
   "source": [
    "test_df=pd.read_csv(\"dataset/test.csv\")\n",
    "train_df=pd.read_csv(\"dataset/train.csv\")"
   ]
  },
  {
   "cell_type": "code",
   "execution_count": 52,
   "metadata": {},
   "outputs": [],
   "source": [
    "test_embed=make_embed(test_df)\n",
    "train_embed=make_embed(train_df)"
   ]
  },
  {
   "cell_type": "code",
   "execution_count": null,
   "metadata": {},
   "outputs": [],
   "source": []
  }
 ],
 "metadata": {
  "kernelspec": {
   "display_name": "akash",
   "language": "python",
   "name": "akash"
  },
  "language_info": {
   "codemirror_mode": {
    "name": "ipython",
    "version": 3
   },
   "file_extension": ".py",
   "mimetype": "text/x-python",
   "name": "python",
   "nbconvert_exporter": "python",
   "pygments_lexer": "ipython3",
   "version": "3.10.9"
  },
  "orig_nbformat": 4
 },
 "nbformat": 4,
 "nbformat_minor": 2
}
